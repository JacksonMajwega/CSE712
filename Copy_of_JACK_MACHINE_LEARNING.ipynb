{
  "nbformat": 4,
  "nbformat_minor": 0,
  "metadata": {
    "colab": {
      "name": "Copy of JACK MACHINE LEARNING.ipynb",
      "provenance": [],
      "authorship_tag": "ABX9TyO9q23LNEjdcN3P4L6Hgcv1",
      "include_colab_link": true
    },
    "kernelspec": {
      "name": "python3",
      "display_name": "Python 3"
    },
    "language_info": {
      "name": "python"
    }
  },
  "cells": [
    {
      "cell_type": "markdown",
      "metadata": {
        "id": "view-in-github",
        "colab_type": "text"
      },
      "source": [
        "<a href=\"https://colab.research.google.com/github/JacksonMajwega/CSE712/blob/main/Copy_of_JACK_MACHINE_LEARNING.ipynb\" target=\"_parent\"><img src=\"https://colab.research.google.com/assets/colab-badge.svg\" alt=\"Open In Colab\"/></a>"
      ]
    },
    {
      "cell_type": "code",
      "metadata": {
        "colab": {
          "base_uri": "https://localhost:8080/"
        },
        "id": "QlMbkcsUcNyj",
        "outputId": "9cd1a05f-54f3-47b5-e7f9-68003c8b081c"
      },
      "source": [
        "import numpy as np\n",
        "\n",
        "hlo = np.array([12, 45, 10, 4, 5])\n",
        "\n",
        "print(arr)\n",
        "print(np.__version__)"
      ],
      "execution_count": null,
      "outputs": [
        {
          "output_type": "stream",
          "text": [
            "[12 45 10  4  5]\n",
            "1.19.5\n"
          ],
          "name": "stdout"
        }
      ]
    },
    {
      "cell_type": "code",
      "metadata": {
        "id": "x4J7eGI_T5gx"
      },
      "source": [
        ""
      ],
      "execution_count": null,
      "outputs": []
    },
    {
      "cell_type": "code",
      "metadata": {
        "colab": {
          "base_uri": "https://localhost:8080/"
        },
        "id": "oNoYH6VvGVp0",
        "outputId": "912a3bf7-d270-4e74-9417-d4c52ffdd9c1"
      },
      "source": [
        "import numpy as np\n",
        "\n",
        "arr = np.array([1, 2, 3, 4, 5]) # array() is a numpy ndarray object. [1,2,3,4,5] is a list\n",
        "print(arr)\n",
        "print(type(arr)) # type() built-in Python function tells us the type of the object passed to it. So arr is a numpy.ndarray "
      ],
      "execution_count": null,
      "outputs": [
        {
          "output_type": "stream",
          "text": [
            "[1 2 3 4 5]\n",
            "<class 'numpy.ndarray'>\n"
          ],
          "name": "stdout"
        }
      ]
    },
    {
      "cell_type": "code",
      "metadata": {
        "colab": {
          "base_uri": "https://localhost:8080/"
        },
        "id": "cDVuXnz-Iog3",
        "outputId": "6ab3b2c3-0deb-4aef-d5eb-3cd675c242c8"
      },
      "source": [
        "import numpy as np\n",
        "hi = np.array((1,2,3,4,5,6)) # a turple however gives the same results\n",
        "print (type(hi))\n",
        "print(hi)\n"
      ],
      "execution_count": null,
      "outputs": [
        {
          "output_type": "stream",
          "text": [
            "<class 'numpy.ndarray'>\n",
            "[1 2 3 4 5 6]\n"
          ],
          "name": "stdout"
        }
      ]
    },
    {
      "cell_type": "markdown",
      "metadata": {
        "id": "fmA623uhR3Qb"
      },
      "source": [
        "0-"
      ]
    },
    {
      "cell_type": "code",
      "metadata": {
        "colab": {
          "base_uri": "https://localhost:8080/"
        },
        "id": "1MZYcUpiODUV",
        "outputId": "535622dc-9107-407d-b064-231cb70a02a5"
      },
      "source": [
        "import numpy as np\n",
        "fy = np.array(42) // 0-D array\n",
        "print(fy)"
      ],
      "execution_count": null,
      "outputs": [
        {
          "output_type": "stream",
          "text": [
            "42\n"
          ],
          "name": "stdout"
        }
      ]
    },
    {
      "cell_type": "markdown",
      "metadata": {
        "id": "J0T5VmfCR9O3"
      },
      "source": [
        "**1-D ARRAYS**\n",
        "\n",
        "An array that has 0-D arrays as its elements is called uni-dimensional or 1-D array"
      ]
    },
    {
      "cell_type": "code",
      "metadata": {
        "colab": {
          "base_uri": "https://localhost:8080/"
        },
        "id": "PuI1DrYySFhI",
        "outputId": "55cbe911-6849-4b15-ff59-4047426aec7c"
      },
      "source": [
        "import numpy as np\n",
        "ty =np.array([1,2,3,4,5,6])\n",
        "print(ty)"
      ],
      "execution_count": null,
      "outputs": [
        {
          "output_type": "stream",
          "text": [
            "[1 2 3 4 5 6]\n"
          ],
          "name": "stdout"
        }
      ]
    },
    {
      "cell_type": "markdown",
      "metadata": {
        "id": "IgfKWyVNSVT8"
      },
      "source": [
        "**2-D ARRAYS**\n",
        "\n",
        "An array that has 1-D arrays as its elements is called a 2-D array.\n",
        "\n",
        "These are often used to represent matrix or 2nd order tensors."
      ]
    },
    {
      "cell_type": "code",
      "metadata": {
        "colab": {
          "base_uri": "https://localhost:8080/"
        },
        "id": "FeyDy0UESf1A",
        "outputId": "59027c6b-9ac4-4886-ea3a-5e1eda38f314"
      },
      "source": [
        "import numpy as np\n",
        "tr = np.array([[1,2,3],[3,4,5]])\n",
        "print(\"the array is:\",tr)"
      ],
      "execution_count": null,
      "outputs": [
        {
          "output_type": "stream",
          "text": [
            "the array is: [[1 2 3]\n",
            " [3 4 5]]\n"
          ],
          "name": "stdout"
        }
      ]
    },
    {
      "cell_type": "markdown",
      "metadata": {
        "id": "IpqjJeu8Uh1C"
      },
      "source": [
        "**3-D ARRAYS**\n",
        "\n",
        "An array that has 2-D arrays (matrices) as its elements is called 3-D array.\n",
        "\n",
        "These are often used to represent a 3rd order tensor."
      ]
    },
    {
      "cell_type": "code",
      "metadata": {
        "colab": {
          "base_uri": "https://localhost:8080/"
        },
        "id": "oe7jbuX5RbAj",
        "outputId": "47c088df-de88-4983-c269-5dbcba890bc5"
      },
      "source": [
        "import numpy as np\n",
        "tut = np.array([[[1,2,3], [3,4,5]],[[1,2,3], [4,5,6]]])\n",
        "print(tut)"
      ],
      "execution_count": null,
      "outputs": [
        {
          "output_type": "stream",
          "text": [
            "[[[1 2 3]\n",
            "  [3 4 5]]\n",
            "\n",
            " [[1 2 3]\n",
            "  [4 5 6]]]\n"
          ],
          "name": "stdout"
        }
      ]
    },
    {
      "cell_type": "markdown",
      "metadata": {
        "id": "KFOGhJOXlGBU"
      },
      "source": [
        "**Check Number of Dimensions?**"
      ]
    },
    {
      "cell_type": "code",
      "metadata": {
        "colab": {
          "base_uri": "https://localhost:8080/"
        },
        "id": "7X2g8BYBlIoT",
        "outputId": "7c2f2160-17a9-42af-907c-c131647fd72f"
      },
      "source": [
        "import numpy as np\n",
        "b = np.array([[1,2,3,4,5,6],[11,11,12,13,14,15]])\n",
        "c = np.array([[[2,4,4,6]]])\n",
        "print(b.ndim) # theoutput will be number of dimensions"
      ],
      "execution_count": null,
      "outputs": [
        {
          "output_type": "stream",
          "text": [
            "2\n"
          ],
          "name": "stdout"
        }
      ]
    },
    {
      "cell_type": "code",
      "metadata": {
        "colab": {
          "base_uri": "https://localhost:8080/"
        },
        "id": "6t3HF1TBzW3N",
        "outputId": "0cb90812-d2fe-4b7b-8422-addd7a826669"
      },
      "source": [
        "import numpy as np\n",
        "\n",
        "arr = np.array([1, 2, 3, 4], ndmin=5)\n",
        "\n",
        "print(arr)\n",
        "print('number of dimensions :', arr.ndim)"
      ],
      "execution_count": null,
      "outputs": [
        {
          "output_type": "stream",
          "text": [
            "[[[[[1 2 3 4]]]]]\n",
            "number of dimensions : 5\n"
          ],
          "name": "stdout"
        }
      ]
    },
    {
      "cell_type": "code",
      "metadata": {
        "colab": {
          "base_uri": "https://localhost:8080/"
        },
        "id": "zo3dCQkw6k3_",
        "outputId": "d318c826-a543-4ac2-d9c1-a4ed29051607"
      },
      "source": [
        "import numpy as np\n",
        "\n",
        "arr = np.array([1, 2, 3, 4], ndmin=5)\n",
        "\n",
        "print(arr)\n",
        "print('number of dimensions :', arr.ndim)"
      ],
      "execution_count": null,
      "outputs": [
        {
          "output_type": "stream",
          "text": [
            "[[[[[1 2 3 4]]]]]\n",
            "number of dimensions : 5\n"
          ],
          "name": "stdout"
        }
      ]
    },
    {
      "cell_type": "markdown",
      "metadata": {
        "id": "_sKkqXLaAdKv"
      },
      "source": [
        "**## NumPy Array Indexing/acessing array elements**"
      ]
    },
    {
      "cell_type": "code",
      "metadata": {
        "colab": {
          "base_uri": "https://localhost:8080/"
        },
        "id": "6NBmuOIjApQ0",
        "outputId": "305cc12e-ab5d-4a56-dd32-41c8f3d547ea"
      },
      "source": [
        "import numpy as np\n",
        "p = np.array([1,2,3,90,58,60,21,9,78,45,56])\n",
        "print(p[0], p[3], p[10], p[7])\n",
        "print(p[4] + p[7], p[8] - p[10])"
      ],
      "execution_count": null,
      "outputs": [
        {
          "output_type": "stream",
          "text": [
            "1 90 56 9\n",
            "67 22\n"
          ],
          "name": "stdout"
        }
      ]
    },
    {
      "cell_type": "markdown",
      "metadata": {
        "id": "m-pJyPfoDQOF"
      },
      "source": [
        "**## Access 2-D Arrays**\n",
        "\n",
        "To access elements from 2-D arrays we can use comma separated integers representing the dimension and the index of the element.\n",
        "\n"
      ]
    },
    {
      "cell_type": "code",
      "metadata": {
        "colab": {
          "base_uri": "https://localhost:8080/"
        },
        "id": "OfEULltBDZSr",
        "outputId": "dccf098c-89a8-4db1-c84c-97a9086ed478"
      },
      "source": [
        "import numpy as np\n",
        "\n",
        "pp = np.array([[1,2,3,4,5], [6,7,8,9,10]])\n",
        "print(pp[1, 2]) # printing the third element in the second dimension\n",
        "print(pp[0, 2]) # printing the third element in the 1st dimension\n",
        "print(pp[1, 0]) # printing the first element in the second dimension"
      ],
      "execution_count": null,
      "outputs": [
        {
          "output_type": "stream",
          "text": [
            "8\n",
            "3\n",
            "6\n"
          ],
          "name": "stdout"
        }
      ]
    },
    {
      "cell_type": "markdown",
      "metadata": {
        "id": "YQeQW-wqqeKQ"
      },
      "source": [
        "**Access 3-D Arrays**\n",
        "\n",
        "To access elements from 3-D arrays we can use comma separated integers representing the dimensions and the index of the element."
      ]
    },
    {
      "cell_type": "code",
      "metadata": {
        "colab": {
          "base_uri": "https://localhost:8080/"
        },
        "id": "Tqu9z5VPqjpI",
        "outputId": "a211e10a-2665-4786-81d6-a189531beddd"
      },
      "source": [
        "import numpy as np\n",
        "t = np.array([[[1,2,3],[3,4,5]], [[77,8,9], [10,11,12]]])\n",
        "print(t[0,1,2]) #printing the third element of the second array of the first dimension\n",
        "print(t[1,0,1]) #printing the second element of the first array of the second dimension\n",
        "print(t[1,0,0]) #printing the first element of the first array of the second dimension"
      ],
      "execution_count": null,
      "outputs": [
        {
          "output_type": "stream",
          "text": [
            "5\n",
            "8\n",
            "77\n"
          ],
          "name": "stdout"
        }
      ]
    },
    {
      "cell_type": "markdown",
      "metadata": {
        "id": "DDQVC-Mgsg2-"
      },
      "source": [
        "**Negative Indexing**\n",
        "\n",
        "Use negative indexing to access an array from the end."
      ]
    },
    {
      "cell_type": "code",
      "metadata": {
        "colab": {
          "base_uri": "https://localhost:8080/"
        },
        "id": "JrrY1Xf7sjfF",
        "outputId": "e450831e-da0e-429a-e111-338b57e3a430"
      },
      "source": [
        "import numpy as np\n",
        "gd = np.array([[1,2,2,4,5,6,7], [7,8,9,1,41,10,52]])\n",
        "print(gd[1,-1])\n",
        "print(gd[1,-2])\n",
        "print(gd[0,-4])"
      ],
      "execution_count": null,
      "outputs": [
        {
          "output_type": "stream",
          "text": [
            "52\n",
            "10\n",
            "4\n"
          ],
          "name": "stdout"
        }
      ]
    },
    {
      "cell_type": "markdown",
      "metadata": {
        "id": "w9DhNi5KFXzr"
      },
      "source": [
        "**Slicing arrays**\n",
        "\n",
        "Slicing in python means taking elements from one given index to another given index."
      ]
    },
    {
      "cell_type": "code",
      "metadata": {
        "colab": {
          "base_uri": "https://localhost:8080/"
        },
        "id": "JxsZOygqFfQy",
        "outputId": "20c361ed-b81a-4ffb-903b-b519a33c71a2"
      },
      "source": [
        "import numpy as np\n",
        "my = np.array([1,2,3,4,5,6])\n",
        "print(my[1:5]) # will print elements from index[1] to element in index[4] but will exclude the element in the 5th index"
      ],
      "execution_count": null,
      "outputs": [
        {
          "output_type": "stream",
          "text": [
            "[2 3 4 5]\n"
          ],
          "name": "stdout"
        }
      ]
    },
    {
      "cell_type": "code",
      "metadata": {
        "colab": {
          "base_uri": "https://localhost:8080/"
        },
        "id": "VKWO9Fk6IMcd",
        "outputId": "f34f2d25-ebec-4adc-af51-59988aa9de5b"
      },
      "source": [
        "import numpy as np\n",
        "my = np.array([1,2,3,4,5,6])\n",
        "print(my[:5]) # will print elements from index[0] to element in index[4] but will exclude the element in the 5th index"
      ],
      "execution_count": null,
      "outputs": [
        {
          "output_type": "stream",
          "text": [
            "[1 2 3 4 5]\n"
          ],
          "name": "stdout"
        }
      ]
    },
    {
      "cell_type": "code",
      "metadata": {
        "colab": {
          "base_uri": "https://localhost:8080/"
        },
        "id": "ehvF95U2IpWy",
        "outputId": "6e73e47e-9390-467b-f78e-8482afca9e73"
      },
      "source": [
        "import numpy as np\n",
        "my = np.array([1,2,3,4,5,6])\n",
        "print(my[2:]) # will print all elements starting from an element in index[2]"
      ],
      "execution_count": null,
      "outputs": [
        {
          "output_type": "stream",
          "text": [
            "[3 4 5 6]\n"
          ],
          "name": "stdout"
        }
      ]
    },
    {
      "cell_type": "markdown",
      "metadata": {
        "id": "SI9taFfwmMbT"
      },
      "source": [
        ""
      ]
    },
    {
      "cell_type": "markdown",
      "metadata": {
        "id": "FkJMQE27mRzc"
      },
      "source": [
        "**Return every other element from index 1 to index 5:**"
      ]
    },
    {
      "cell_type": "code",
      "metadata": {
        "colab": {
          "base_uri": "https://localhost:8080/"
        },
        "id": "LdwImga3mNNc",
        "outputId": "261bfdbc-26be-4cc7-ca08-cb2641cb413a"
      },
      "source": [
        "import numpy as np\n",
        "\n",
        "arr = np.array([1, 2, 3, 4, 5, 6, 7])\n",
        "\n",
        "print(arr[1:5:2]) "
      ],
      "execution_count": null,
      "outputs": [
        {
          "output_type": "stream",
          "text": [
            "[2 4]\n"
          ],
          "name": "stdout"
        }
      ]
    }
  ]
}